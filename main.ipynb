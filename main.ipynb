{
 "cells": [
  {
   "cell_type": "code",
   "execution_count": 1,
   "metadata": {},
   "outputs": [],
   "source": [
    "import pickle\n",
    "import pandas as pd\n",
    "from datetime import datetime"
   ]
  },
  {
   "cell_type": "code",
   "execution_count": 2,
   "metadata": {},
   "outputs": [],
   "source": [
    "class DataExtractor:\n",
    "    def __init__(self, invoice_file_path, expired_invoices_path):\n",
    "        self.invoice_file_path = invoice_file_path\n",
    "        self.expired_invoices_path = expired_invoices_path\n",
    "        self.expired_invoices = self.load_expired_invoices()\n",
    "        self.data = self.load_invoices()\n",
    "\n",
    "    def load_expired_invoices(self):\n",
    "        with open(self.expired_invoices_path, 'r') as file:\n",
    "            expired_invoices = file.read().strip().split(', ')\n",
    "        return set(map(int, expired_invoices))\n",
    "\n",
    "    def load_invoices(self):\n",
    "        with open(self.invoice_file_path, 'rb') as file:\n",
    "            data = pickle.load(file)\n",
    "        return data\n",
    "\n",
    "    def is_valid_date(self, date_str):\n",
    "        try:\n",
    "            datetime.strptime(date_str, '%Y-%m-%d')\n",
    "            return True\n",
    "        except ValueError:\n",
    "            return False\n",
    "\n",
    "    def transform_data(self):\n",
    "        records = []\n",
    "        type_conversion = {0: 'Material', 1: 'Equipment', 2: 'Service', 3: 'Other'}\n",
    "\n",
    "        for invoice in self.data:\n",
    "            invoice_id = int(str(invoice['id']).replace('O', ''))  # Ensure invoice_id is int\n",
    "            created_on_str = invoice['created_on']\n",
    "            if not self.is_valid_date(created_on_str):\n",
    "                continue  # Skip invalid dates\n",
    "            created_on = pd.to_datetime(created_on_str)\n",
    "\n",
    "            if 'items' not in invoice:\n",
    "                continue  # Skip invoices without items\n",
    "\n",
    "            invoice_total = sum(item['item']['unit_price'] * int(item['quantity']) for item in invoice['items'] if isinstance(item['quantity'], (int, str)) and str(item['quantity']).isdigit())\n",
    "            is_expired = invoice_id in self.expired_invoices\n",
    "\n",
    "            for item in invoice['items']:\n",
    "                invoiceitem_id = item['item']['id']\n",
    "                invoiceitem_name = item['item']['name']\n",
    "                type_str = type_conversion.get(item['item']['type'], 'Other')\n",
    "                unit_price = item['item']['unit_price']\n",
    "                quantity = item['quantity']\n",
    "                if isinstance(quantity, str) and not quantity.isdigit():\n",
    "                    continue  # Skip invalid quantity entries\n",
    "                quantity = int(quantity)  # Ensure quantity is int\n",
    "                total_price = unit_price * quantity\n",
    "                percentage_in_invoice = total_price / invoice_total if invoice_total != 0 else 0\n",
    "\n",
    "                records.append([\n",
    "                    invoice_id, created_on, invoiceitem_id, invoiceitem_name,\n",
    "                    type_str, unit_price, total_price, percentage_in_invoice, is_expired\n",
    "                ])\n",
    "\n",
    "        df = pd.DataFrame(records, columns=[\n",
    "            'invoice_id', 'created_on', 'invoiceitem_id', 'invoiceitem_name',\n",
    "            'type', 'unit_price', 'total_price', 'percentage_in_invoice', 'is_expired'\n",
    "        ])\n",
    "\n",
    "        df = df.astype({\n",
    "            'invoice_id': 'int64',\n",
    "            'created_on': 'datetime64[ns]',\n",
    "            'invoiceitem_id': 'int64',\n",
    "            'invoiceitem_name': 'str',\n",
    "            'type': 'str',\n",
    "            'unit_price': 'int64',\n",
    "            'total_price': 'int64',\n",
    "            'percentage_in_invoice': 'float64',\n",
    "            'is_expired': 'bool'\n",
    "        })\n",
    "\n",
    "        df = df.sort_values(by=['invoice_id', 'invoiceitem_id'])\n",
    "        return df"
   ]
  },
  {
   "cell_type": "code",
   "execution_count": 3,
   "metadata": {},
   "outputs": [],
   "source": [
    "invoice_file_path = r\"data\\invoices_new.pkl\"\n",
    "expired_invoices_path = r\"data\\expired_invoices.txt\""
   ]
  },
  {
   "cell_type": "code",
   "execution_count": 4,
   "metadata": {},
   "outputs": [],
   "source": [
    "data_extractor = DataExtractor(invoice_file_path, expired_invoices_path)\n",
    "processed_df = data_extractor.transform_data()"
   ]
  },
  {
   "cell_type": "code",
   "execution_count": 5,
   "metadata": {},
   "outputs": [],
   "source": [
    "processed_df.to_csv('processed_invoices.csv', index=False)"
   ]
  },
  {
   "cell_type": "code",
   "execution_count": null,
   "metadata": {},
   "outputs": [],
   "source": []
  }
 ],
 "metadata": {
  "kernelspec": {
   "display_name": "base",
   "language": "python",
   "name": "python3"
  },
  "language_info": {
   "codemirror_mode": {
    "name": "ipython",
    "version": 3
   },
   "file_extension": ".py",
   "mimetype": "text/x-python",
   "name": "python",
   "nbconvert_exporter": "python",
   "pygments_lexer": "ipython3",
   "version": "3.9.7"
  }
 },
 "nbformat": 4,
 "nbformat_minor": 2
}
